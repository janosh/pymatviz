{
 "cells": [
  {
   "cell_type": "code",
   "execution_count": null,
   "id": "0",
   "metadata": {},
   "outputs": [
    {
     "data": {
      "application/vnd.jupyter.widget-view+json": {
       "model_id": "4dbeb42c3e224dd9b0d3f7112269edc8",
       "version_major": 2,
       "version_minor": 1
      },
      "text/plain": [
       "StructureWidget(structure={'@module': 'pymatgen.core.structure', '@class': 'Structure', 'charge': 0.0, 'lattic…"
      ]
     },
     "execution_count": null,
     "metadata": {},
     "output_type": "execute_result"
    }
   ],
   "source": [
    "\"\"\"Jupyter notebook demo for pymatviz widgets.\"\"\"\n",
    "# /// script\n",
    "# dependencies = [\n",
    "#     \"pymatgen>=2024.1.1\",\n",
    "#     \"ase>=3.22.0\",\n",
    "#     \"phonopy>=2.20.0\",\n",
    "# ]\n",
    "# ///\n",
    "\n",
    "# %%\n",
    "import itertools\n",
    "import os\n",
    "from typing import Final\n",
    "\n",
    "from ase.build import bulk, molecule\n",
    "from ipywidgets import GridBox, Layout\n",
    "from phonopy.structure.atoms import PhonopyAtoms\n",
    "from pymatgen.core import Composition, Lattice, Structure\n",
    "\n",
    "import pymatviz as pmv\n",
    "\n",
    "\n",
    "# Test Structure Widget\n",
    "struct = Structure(\n",
    "    lattice=Lattice.cubic(3), species=(\"Fe\", \"Fe\"), coords=((0, 0, 0), (0.5, 0.5, 0.5))\n",
    ")\n",
    "\n",
    "structure_widget = pmv.StructureWidget(structure=struct)\n",
    "structure_widget"
   ]
  },
  {
   "cell_type": "code",
   "execution_count": null,
   "id": "1",
   "metadata": {},
   "outputs": [
    {
     "data": {
      "text/plain": [
       "Structure Summary\n",
       "Lattice\n",
       "    abc : 3.0 3.0 3.0\n",
       " angles : 90.0 90.0 90.0\n",
       " volume : 27.0\n",
       "      A : np.float64(3.0) np.float64(0.0) np.float64(0.0)\n",
       "      B : np.float64(0.0) np.float64(3.0) np.float64(0.0)\n",
       "      C : np.float64(0.0) np.float64(0.0) np.float64(3.0)\n",
       "    pbc : True True True\n",
       "PeriodicSite: Fe (0.0, 0.0, 0.0) [0.0, 0.0, 0.0]\n",
       "PeriodicSite: Fe (1.5, 1.5, 1.5) [0.5, 0.5, 0.5]"
      ]
     },
     "metadata": {},
     "output_type": "display_data"
    }
   ],
   "source": [
    "# %% Test pymatgen Structure MIME type recognition (should render as StructureWidget)\n",
    "struct"
   ]
  },
  {
   "cell_type": "code",
   "execution_count": null,
   "id": "2",
   "metadata": {},
   "outputs": [
    {
     "data": {
      "application/vnd.jupyter.widget-view+json": {
       "model_id": "664f51ccba6b40cca5b20e168a94fceb",
       "version_major": 2,
       "version_minor": 1
      },
      "text/plain": [
       "TrajectoryWidget(trajectory={'frames': [{'structure': {'@module': 'pymatgen.core.structure', '@class': 'Struct…"
      ]
     },
     "execution_count": null,
     "metadata": {},
     "output_type": "execute_result"
    }
   ],
   "source": [
    "# %% Test Trajectory Widget with simple trajectory of expanding lattice\n",
    "\n",
    "trajectory = []\n",
    "for idx in range(5):\n",
    "    scale = 3.0 + idx * 0.1\n",
    "    struct_frame = Structure(\n",
    "        lattice=Lattice.cubic(scale),\n",
    "        species=(\"Fe\", \"Fe\"),\n",
    "        coords=((0, 0, 0), (0.5, 0.5, 0.5)),\n",
    "    )\n",
    "    trajectory.append(struct_frame)\n",
    "\n",
    "trajectory_widget = pmv.TrajectoryWidget(trajectory=trajectory)\n",
    "trajectory_widget"
   ]
  },
  {
   "cell_type": "code",
   "execution_count": null,
   "id": "3",
   "metadata": {},
   "outputs": [
    {
     "data": {
      "text/plain": [
       "Atoms(symbols='Al8', pbc=True, cell=[[0.0, 4.05, 4.05], [4.05, 0.0, 4.05], [4.05, 4.05, 0.0]])"
      ]
     },
     "metadata": {},
     "output_type": "display_data"
    }
   ],
   "source": [
    "# %% Test ASE Atoms MIME type display\n",
    "\n",
    "ase_atoms = bulk(\"Al\", \"fcc\", a=4.05)\n",
    "ase_atoms *= (2, 2, 2)  # Create a 2x2x2 supercell\n",
    "ase_atoms"
   ]
  },
  {
   "cell_type": "code",
   "execution_count": null,
   "id": "4",
   "metadata": {},
   "outputs": [
    {
     "data": {
      "text/plain": [
       "Atoms(symbols='OH2', pbc=False, cell=[6.0, 7.526478, 6.596309])"
      ]
     },
     "metadata": {},
     "output_type": "display_data"
    }
   ],
   "source": [
    "# %% Test ASE molecule MIME type display\n",
    "\n",
    "ase_molecule = molecule(\"H2O\")\n",
    "ase_molecule.center(vacuum=3.0)\n",
    "ase_molecule"
   ]
  },
  {
   "cell_type": "code",
   "execution_count": null,
   "id": "5",
   "metadata": {},
   "outputs": [
    {
     "data": {
      "text/plain": [
       "<phonopy.structure.atoms.PhonopyAtoms object at 0x141830ad0>"
      ]
     },
     "metadata": {},
     "output_type": "display_data"
    }
   ],
   "source": [
    "# %% Test phonopy atoms MIME type display\n",
    "\n",
    "lattice = [[4, 0, 0], [0, 4, 0], [0, 0, 4]]\n",
    "positions = [[0.0, 0.0, 0.0], [0.5, 0.5, 0.5]]\n",
    "symbols = [\"Na\", \"Cl\"]\n",
    "\n",
    "phonopy_atoms = PhonopyAtoms(symbols=symbols, positions=positions, cell=lattice)\n",
    "phonopy_atoms"
   ]
  },
  {
   "cell_type": "code",
   "execution_count": null,
   "id": "6",
   "metadata": {},
   "outputs": [
    {
     "ename": "HTTPError",
     "evalue": "HTTP Error 404: Not Found",
     "output_type": "error",
     "traceback": [
      "\u001b[31m---------------------------------------------------------------------------\u001b[39m",
      "\u001b[31mHTTPError\u001b[39m                                 Traceback (most recent call last)",
      "\u001b[36mCell\u001b[39m\u001b[36m \u001b[39m\u001b[32mIn[7]\u001b[39m\u001b[32m, line 13\u001b[39m\n\u001b[32m      9\u001b[39m     \u001b[38;5;28;01mimport\u001b[39;00m\u001b[38;5;250m \u001b[39m\u001b[34;01murllib\u001b[39;00m\u001b[34;01m.\u001b[39;00m\u001b[34;01mrequest\u001b[39;00m\n\u001b[32m     11\u001b[39m     os.makedirs(\u001b[33m\"\u001b[39m\u001b[33mtmp\u001b[39m\u001b[33m\"\u001b[39m, exist_ok=\u001b[38;5;28;01mTrue\u001b[39;00m)\n\u001b[32m---> \u001b[39m\u001b[32m13\u001b[39m     \u001b[43murllib\u001b[49m\u001b[43m.\u001b[49m\u001b[43mrequest\u001b[49m\u001b[43m.\u001b[49m\u001b[43murlretrieve\u001b[49m\u001b[43m(\u001b[49m\u001b[43m  \u001b[49m\u001b[38;5;66;43;03m# noqa: S310\u001b[39;49;00m\n\u001b[32m     14\u001b[39m \u001b[43m        \u001b[49m\u001b[33;43mf\u001b[39;49m\u001b[33;43m\"\u001b[39;49m\u001b[38;5;132;43;01m{\u001b[39;49;00m\u001b[43mmatterviz_traj_dir_url\u001b[49m\u001b[38;5;132;43;01m}\u001b[39;49;00m\u001b[33;43m/\u001b[39;49m\u001b[38;5;132;43;01m{\u001b[39;49;00m\u001b[43mfile_name\u001b[49m\u001b[38;5;132;43;01m}\u001b[39;49;00m\u001b[33;43m\"\u001b[39;49m\u001b[43m,\u001b[49m\u001b[43m \u001b[49m\u001b[33;43mf\u001b[39;49m\u001b[33;43m\"\u001b[39;49m\u001b[33;43mtmp/\u001b[39;49m\u001b[38;5;132;43;01m{\u001b[39;49;00m\u001b[43mfile_name\u001b[49m\u001b[38;5;132;43;01m}\u001b[39;49;00m\u001b[33;43m\"\u001b[39;49m\n\u001b[32m     15\u001b[39m \u001b[43m    \u001b[49m\u001b[43m)\u001b[49m\n\u001b[32m     17\u001b[39m torch_sim_widget = pmv.TrajectoryWidget(\n\u001b[32m     18\u001b[39m     data_url=\u001b[33mf\u001b[39m\u001b[33m\"\u001b[39m\u001b[33mtmp/\u001b[39m\u001b[38;5;132;01m{\u001b[39;00mfile_name\u001b[38;5;132;01m}\u001b[39;00m\u001b[33m\"\u001b[39m,\n\u001b[32m     19\u001b[39m     display_mode=\u001b[33m\"\u001b[39m\u001b[33mstructure+scatter\u001b[39m\u001b[33m\"\u001b[39m,\n\u001b[32m     20\u001b[39m     show_force_vectors=\u001b[38;5;28;01mFalse\u001b[39;00m,\n\u001b[32m     21\u001b[39m )\n\u001b[32m     22\u001b[39m torch_sim_widget\n",
      "\u001b[36mFile \u001b[39m\u001b[32m~/.local/share/uv/python/cpython-3.13.0-macos-aarch64-none/lib/python3.13/urllib/request.py:214\u001b[39m, in \u001b[36murlretrieve\u001b[39m\u001b[34m(url, filename, reporthook, data)\u001b[39m\n\u001b[32m    197\u001b[39m \u001b[38;5;250m\u001b[39m\u001b[33;03m\"\"\"\u001b[39;00m\n\u001b[32m    198\u001b[39m \u001b[33;03mRetrieve a URL into a temporary location on disk.\u001b[39;00m\n\u001b[32m    199\u001b[39m \n\u001b[32m   (...)\u001b[39m\u001b[32m    210\u001b[39m \u001b[33;03mdata file as well as the resulting HTTPMessage object.\u001b[39;00m\n\u001b[32m    211\u001b[39m \u001b[33;03m\"\"\"\u001b[39;00m\n\u001b[32m    212\u001b[39m url_type, path = _splittype(url)\n\u001b[32m--> \u001b[39m\u001b[32m214\u001b[39m \u001b[38;5;28;01mwith\u001b[39;00m contextlib.closing(\u001b[43murlopen\u001b[49m\u001b[43m(\u001b[49m\u001b[43murl\u001b[49m\u001b[43m,\u001b[49m\u001b[43m \u001b[49m\u001b[43mdata\u001b[49m\u001b[43m)\u001b[49m) \u001b[38;5;28;01mas\u001b[39;00m fp:\n\u001b[32m    215\u001b[39m     headers = fp.info()\n\u001b[32m    217\u001b[39m     \u001b[38;5;66;03m# Just return the local path and the \"headers\" for file://\u001b[39;00m\n\u001b[32m    218\u001b[39m     \u001b[38;5;66;03m# URLs. No sense in performing a copy unless requested.\u001b[39;00m\n",
      "\u001b[36mFile \u001b[39m\u001b[32m~/.local/share/uv/python/cpython-3.13.0-macos-aarch64-none/lib/python3.13/urllib/request.py:189\u001b[39m, in \u001b[36murlopen\u001b[39m\u001b[34m(url, data, timeout, context)\u001b[39m\n\u001b[32m    187\u001b[39m \u001b[38;5;28;01melse\u001b[39;00m:\n\u001b[32m    188\u001b[39m     opener = _opener\n\u001b[32m--> \u001b[39m\u001b[32m189\u001b[39m \u001b[38;5;28;01mreturn\u001b[39;00m \u001b[43mopener\u001b[49m\u001b[43m.\u001b[49m\u001b[43mopen\u001b[49m\u001b[43m(\u001b[49m\u001b[43murl\u001b[49m\u001b[43m,\u001b[49m\u001b[43m \u001b[49m\u001b[43mdata\u001b[49m\u001b[43m,\u001b[49m\u001b[43m \u001b[49m\u001b[43mtimeout\u001b[49m\u001b[43m)\u001b[49m\n",
      "\u001b[36mFile \u001b[39m\u001b[32m~/.local/share/uv/python/cpython-3.13.0-macos-aarch64-none/lib/python3.13/urllib/request.py:495\u001b[39m, in \u001b[36mOpenerDirector.open\u001b[39m\u001b[34m(self, fullurl, data, timeout)\u001b[39m\n\u001b[32m    493\u001b[39m \u001b[38;5;28;01mfor\u001b[39;00m processor \u001b[38;5;129;01min\u001b[39;00m \u001b[38;5;28mself\u001b[39m.process_response.get(protocol, []):\n\u001b[32m    494\u001b[39m     meth = \u001b[38;5;28mgetattr\u001b[39m(processor, meth_name)\n\u001b[32m--> \u001b[39m\u001b[32m495\u001b[39m     response = \u001b[43mmeth\u001b[49m\u001b[43m(\u001b[49m\u001b[43mreq\u001b[49m\u001b[43m,\u001b[49m\u001b[43m \u001b[49m\u001b[43mresponse\u001b[49m\u001b[43m)\u001b[49m\n\u001b[32m    497\u001b[39m \u001b[38;5;28;01mreturn\u001b[39;00m response\n",
      "\u001b[36mFile \u001b[39m\u001b[32m~/.local/share/uv/python/cpython-3.13.0-macos-aarch64-none/lib/python3.13/urllib/request.py:604\u001b[39m, in \u001b[36mHTTPErrorProcessor.http_response\u001b[39m\u001b[34m(self, request, response)\u001b[39m\n\u001b[32m    601\u001b[39m \u001b[38;5;66;03m# According to RFC 2616, \"2xx\" code indicates that the client's\u001b[39;00m\n\u001b[32m    602\u001b[39m \u001b[38;5;66;03m# request was successfully received, understood, and accepted.\u001b[39;00m\n\u001b[32m    603\u001b[39m \u001b[38;5;28;01mif\u001b[39;00m \u001b[38;5;129;01mnot\u001b[39;00m (\u001b[32m200\u001b[39m <= code < \u001b[32m300\u001b[39m):\n\u001b[32m--> \u001b[39m\u001b[32m604\u001b[39m     response = \u001b[38;5;28;43mself\u001b[39;49m\u001b[43m.\u001b[49m\u001b[43mparent\u001b[49m\u001b[43m.\u001b[49m\u001b[43merror\u001b[49m\u001b[43m(\u001b[49m\n\u001b[32m    605\u001b[39m \u001b[43m        \u001b[49m\u001b[33;43m'\u001b[39;49m\u001b[33;43mhttp\u001b[39;49m\u001b[33;43m'\u001b[39;49m\u001b[43m,\u001b[49m\u001b[43m \u001b[49m\u001b[43mrequest\u001b[49m\u001b[43m,\u001b[49m\u001b[43m \u001b[49m\u001b[43mresponse\u001b[49m\u001b[43m,\u001b[49m\u001b[43m \u001b[49m\u001b[43mcode\u001b[49m\u001b[43m,\u001b[49m\u001b[43m \u001b[49m\u001b[43mmsg\u001b[49m\u001b[43m,\u001b[49m\u001b[43m \u001b[49m\u001b[43mhdrs\u001b[49m\u001b[43m)\u001b[49m\n\u001b[32m    607\u001b[39m \u001b[38;5;28;01mreturn\u001b[39;00m response\n",
      "\u001b[36mFile \u001b[39m\u001b[32m~/.local/share/uv/python/cpython-3.13.0-macos-aarch64-none/lib/python3.13/urllib/request.py:533\u001b[39m, in \u001b[36mOpenerDirector.error\u001b[39m\u001b[34m(self, proto, *args)\u001b[39m\n\u001b[32m    531\u001b[39m \u001b[38;5;28;01mif\u001b[39;00m http_err:\n\u001b[32m    532\u001b[39m     args = (\u001b[38;5;28mdict\u001b[39m, \u001b[33m'\u001b[39m\u001b[33mdefault\u001b[39m\u001b[33m'\u001b[39m, \u001b[33m'\u001b[39m\u001b[33mhttp_error_default\u001b[39m\u001b[33m'\u001b[39m) + orig_args\n\u001b[32m--> \u001b[39m\u001b[32m533\u001b[39m     \u001b[38;5;28;01mreturn\u001b[39;00m \u001b[38;5;28;43mself\u001b[39;49m\u001b[43m.\u001b[49m\u001b[43m_call_chain\u001b[49m\u001b[43m(\u001b[49m\u001b[43m*\u001b[49m\u001b[43margs\u001b[49m\u001b[43m)\u001b[49m\n",
      "\u001b[36mFile \u001b[39m\u001b[32m~/.local/share/uv/python/cpython-3.13.0-macos-aarch64-none/lib/python3.13/urllib/request.py:466\u001b[39m, in \u001b[36mOpenerDirector._call_chain\u001b[39m\u001b[34m(self, chain, kind, meth_name, *args)\u001b[39m\n\u001b[32m    464\u001b[39m \u001b[38;5;28;01mfor\u001b[39;00m handler \u001b[38;5;129;01min\u001b[39;00m handlers:\n\u001b[32m    465\u001b[39m     func = \u001b[38;5;28mgetattr\u001b[39m(handler, meth_name)\n\u001b[32m--> \u001b[39m\u001b[32m466\u001b[39m     result = \u001b[43mfunc\u001b[49m\u001b[43m(\u001b[49m\u001b[43m*\u001b[49m\u001b[43margs\u001b[49m\u001b[43m)\u001b[49m\n\u001b[32m    467\u001b[39m     \u001b[38;5;28;01mif\u001b[39;00m result \u001b[38;5;129;01mis\u001b[39;00m \u001b[38;5;129;01mnot\u001b[39;00m \u001b[38;5;28;01mNone\u001b[39;00m:\n\u001b[32m    468\u001b[39m         \u001b[38;5;28;01mreturn\u001b[39;00m result\n",
      "\u001b[36mFile \u001b[39m\u001b[32m~/.local/share/uv/python/cpython-3.13.0-macos-aarch64-none/lib/python3.13/urllib/request.py:613\u001b[39m, in \u001b[36mHTTPDefaultErrorHandler.http_error_default\u001b[39m\u001b[34m(self, req, fp, code, msg, hdrs)\u001b[39m\n\u001b[32m    612\u001b[39m \u001b[38;5;28;01mdef\u001b[39;00m\u001b[38;5;250m \u001b[39m\u001b[34mhttp_error_default\u001b[39m(\u001b[38;5;28mself\u001b[39m, req, fp, code, msg, hdrs):\n\u001b[32m--> \u001b[39m\u001b[32m613\u001b[39m     \u001b[38;5;28;01mraise\u001b[39;00m HTTPError(req.full_url, code, msg, hdrs, fp)\n",
      "\u001b[31mHTTPError\u001b[39m: HTTP Error 404: Not Found"
     ]
    }
   ],
   "source": [
    "# %% Render local flame HDF5 trajectory file\n",
    "\n",
    "matterviz_traj_dir_url: Final = (\n",
    "    \"https://github.com/janosh/matterviz/raw/33aa595dc/src/site/trajectories\"\n",
    ")\n",
    "file_name = \"flame-gold-cluster-55-atoms.h5\"\n",
    "\n",
    "if not os.path.isfile(f\"tmp/{file_name}\"):\n",
    "    import urllib.request\n",
    "\n",
    "    os.makedirs(\"tmp\", exist_ok=True)\n",
    "\n",
    "    urllib.request.urlretrieve(  # noqa: S310\n",
    "        f\"{matterviz_traj_dir_url}/{file_name}\", f\"tmp/{file_name}\"\n",
    "    )\n",
    "\n",
    "torch_sim_widget = pmv.TrajectoryWidget(\n",
    "    data_url=f\"tmp/{file_name}\",\n",
    "    display_mode=\"structure+scatter\",\n",
    "    show_force_vectors=False,\n",
    ")\n",
    "torch_sim_widget"
   ]
  },
  {
   "cell_type": "code",
   "execution_count": null,
   "id": "7",
   "metadata": {},
   "outputs": [
    {
     "data": {
      "application/vnd.jupyter.widget-view+json": {
       "model_id": "e79497d7ae7e43a4925063a4237c8003",
       "version_major": 2,
       "version_minor": 1
      },
      "text/plain": [
       "TrajectoryWidget(data_url='https://raw.githack.com/janosh/matterviz/33aa595dc/src/site/trajectories/Cr0.25Fe0.…"
      ]
     },
     "metadata": {},
     "output_type": "display_data"
    }
   ],
   "source": [
    "# %% Render remote ASE trajectory file\n",
    "\n",
    "githack_traj_dir_url: Final = (\n",
    "    \"https://raw.githack.com/janosh/matterviz/33aa595dc/src/site/trajectories\"\n",
    ")\n",
    "file_name = \"Cr0.25Fe0.25Co0.25Ni0.25-mace-omat-qha.xyz.gz\"\n",
    "ase_traj_widget = pmv.TrajectoryWidget(\n",
    "    data_url=f\"{githack_traj_dir_url}/{file_name}\",\n",
    "    display_mode=\"structure+scatter\",\n",
    "    show_force_vectors=True,\n",
    "    force_vector_scale=0.5,\n",
    "    force_vector_color=\"#ff4444\",\n",
    "    show_bonds=True,\n",
    "    bonding_strategy=\"nearest_neighbor\",\n",
    "    style=\"height: 600px;\",\n",
    ")\n",
    "display(ase_traj_widget)  # type: ignore[unresolved-reference]"
   ]
  },
  {
   "cell_type": "code",
   "execution_count": null,
   "id": "8",
   "metadata": {},
   "outputs": [
    {
     "data": {
      "application/vnd.jupyter.widget-view+json": {
       "model_id": "33687d3c791a4c07a4da3282f2ececc5",
       "version_major": 2,
       "version_minor": 1
      },
      "text/plain": [
       "TrajectoryWidget(data_url='https://raw.githack.com/janosh/matterviz/33aa595dc/src/site/trajectories/torch-sim-…"
      ]
     },
     "execution_count": null,
     "metadata": {},
     "output_type": "execute_result"
    }
   ],
   "source": [
    "# %% Render remote flame HDF5 trajectory file\n",
    "\n",
    "torch_sim_widget = pmv.TrajectoryWidget(\n",
    "    data_url=f\"{githack_traj_dir_url}/flame-gold-cluster-55-atoms.h5\",\n",
    "    display_mode=\"structure+scatter\",\n",
    "    show_force_vectors=False,\n",
    "    style=\"height: 600px;\",\n",
    ")\n",
    "\n",
    "torch_sim_widget"
   ]
  },
  {
   "cell_type": "code",
   "execution_count": null,
   "id": "9",
   "metadata": {},
   "outputs": [
    {
     "data": {
      "application/vnd.jupyter.widget-view+json": {
       "model_id": "b408e382c31348f7b2ec56e26cb74cec",
       "version_major": 2,
       "version_minor": 0
      },
      "text/plain": [
       "GridBox(children=(CompositionWidget(composition={'Fe': 2.0, 'O': 3.0}, style='width: 100px; height: 100px;'), …"
      ]
     },
     "execution_count": null,
     "metadata": {},
     "output_type": "execute_result"
    }
   ],
   "source": [
    "# %% Test Composition Widget\n",
    "\n",
    "comps = (\n",
    "    \"Fe2 O3\",\n",
    "    Composition(\"Li P O4\"),\n",
    "    dict(Co=20, Cr=20, Fe=20, Mn=20, Ni=20),\n",
    "    dict(Ti=20, Zr=20, Nb=20, Mo=20, V=20),\n",
    ")\n",
    "modes = (\"pie\", \"bar\", \"bubble\")\n",
    "size = 100\n",
    "children = [\n",
    "    pmv.CompositionWidget(\n",
    "        composition=comp,\n",
    "        mode=mode,\n",
    "        style=f\"width: {(1 + (mode == 'bar')) * size}px; height: {size}px;\",\n",
    "    )\n",
    "    for comp, mode in itertools.product(comps, modes)\n",
    "]\n",
    "layout = Layout(\n",
    "    grid_template_columns=f\"repeat({len(modes)}, auto)\",\n",
    "    grid_gap=\"2em 4em\",\n",
    "    padding=\"2em\",\n",
    ")\n",
    "GridBox(children=children, layout=layout)"
   ]
  }
 ],
 "metadata": {
  "kernelspec": {
   "display_name": "py313",
   "language": "python",
   "name": "python3"
  },
  "language_info": {
   "codemirror_mode": {
    "name": "ipython",
    "version": 3
   },
   "file_extension": ".py",
   "mimetype": "text/x-python",
   "name": "python",
   "nbconvert_exporter": "python",
   "pygments_lexer": "ipython3",
   "version": "3.13.0"
  }
 },
 "nbformat": 4,
 "nbformat_minor": 2
}
