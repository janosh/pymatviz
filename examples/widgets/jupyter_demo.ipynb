{
 "cells": [
  {
   "cell_type": "code",
   "execution_count": null,
   "id": "0",
   "metadata": {},
   "outputs": [
    {
     "data": {
      "application/vnd.jupyter.widget-view+json": {
       "model_id": "0f9e1712166343bb965cff886b638384",
       "version_major": 2,
       "version_minor": 1
      },
      "text/plain": [
       "StructureWidget(structure={'@module': 'pymatgen.core.structure', '@class': 'Structure', 'charge': 0.0, 'lattic…"
      ]
     },
     "execution_count": null,
     "metadata": {},
     "output_type": "execute_result"
    }
   ],
   "source": [
    "\"\"\"Jupyter notebook demo for pymatviz widgets.\"\"\"\n",
    "# /// script\n",
    "# dependencies = [\n",
    "#     \"pymatgen>=2024.1.1\",\n",
    "#     \"ase>=3.22.0\",\n",
    "#     \"phonopy>=2.20.0\",\n",
    "# ]\n",
    "# ///\n",
    "\n",
    "# %%\n",
    "import itertools\n",
    "import os\n",
    "from typing import Final\n",
    "\n",
    "from ase.build import bulk, molecule\n",
    "from ipywidgets import GridBox, Layout\n",
    "from phonopy.structure.atoms import PhonopyAtoms\n",
    "from pymatgen.core import Composition, Lattice, Structure\n",
    "\n",
    "import pymatviz as pmv\n",
    "\n",
    "\n",
    "# Test Structure Widget\n",
    "struct = Structure(\n",
    "    lattice=Lattice.cubic(3), species=(\"Fe\", \"Fe\"), coords=((0, 0, 0), (0.5, 0.5, 0.5))\n",
    ")\n",
    "\n",
    "structure_widget = pmv.StructureWidget(structure=struct)\n",
    "structure_widget"
   ]
  },
  {
   "cell_type": "code",
   "execution_count": null,
   "id": "1",
   "metadata": {},
   "outputs": [
    {
     "data": {
      "text/plain": [
       "Structure Summary\n",
       "Lattice\n",
       "    abc : 3.0 3.0 3.0\n",
       " angles : 90.0 90.0 90.0\n",
       " volume : 27.0\n",
       "      A : np.float64(3.0) np.float64(0.0) np.float64(0.0)\n",
       "      B : np.float64(0.0) np.float64(3.0) np.float64(0.0)\n",
       "      C : np.float64(0.0) np.float64(0.0) np.float64(3.0)\n",
       "    pbc : True True True\n",
       "PeriodicSite: Fe (0.0, 0.0, 0.0) [0.0, 0.0, 0.0]\n",
       "PeriodicSite: Fe (1.5, 1.5, 1.5) [0.5, 0.5, 0.5]"
      ]
     },
     "metadata": {},
     "output_type": "display_data"
    }
   ],
   "source": [
    "# %% Test pymatgen Structure MIME type recognition (should render as StructureWidget)\n",
    "struct"
   ]
  },
  {
   "cell_type": "code",
   "execution_count": null,
   "id": "2",
   "metadata": {},
   "outputs": [
    {
     "data": {
      "application/vnd.jupyter.widget-view+json": {
       "model_id": "80d67f22c3d941659fbcba4b3c171aba",
       "version_major": 2,
       "version_minor": 1
      },
      "text/plain": [
       "TrajectoryWidget(layout='horizontal', trajectory={'frames': [{'structure': {'@module': 'pymatgen.core.structur…"
      ]
     },
     "execution_count": null,
     "metadata": {},
     "output_type": "execute_result"
    }
   ],
   "source": [
    "# %% Test Trajectory Widget with simple trajectory of expanding lattice\n",
    "\n",
    "trajectory = []\n",
    "for idx in range(5):\n",
    "    scale = 3.0 + idx * 0.1\n",
    "    struct_frame = Structure(\n",
    "        lattice=Lattice.cubic(scale),\n",
    "        species=(\"Fe\", \"Fe\"),\n",
    "        coords=((0, 0, 0), (0.5, 0.5, 0.5)),\n",
    "    )\n",
    "    trajectory.append(struct_frame)\n",
    "\n",
    "trajectory_widget = pmv.TrajectoryWidget(trajectory=trajectory)\n",
    "trajectory_widget"
   ]
  },
  {
   "cell_type": "code",
   "execution_count": null,
   "id": "3",
   "metadata": {},
   "outputs": [
    {
     "data": {
      "text/plain": [
       "Atoms(symbols='Al8', pbc=True, cell=[[0.0, 4.05, 4.05], [4.05, 0.0, 4.05], [4.05, 4.05, 0.0]])"
      ]
     },
     "metadata": {},
     "output_type": "display_data"
    }
   ],
   "source": [
    "# %% Test ASE Atoms MIME type display\n",
    "\n",
    "ase_atoms = bulk(\"Al\", \"fcc\", a=4.05)\n",
    "ase_atoms *= (2, 2, 2)  # Create a 2x2x2 supercell\n",
    "ase_atoms"
   ]
  },
  {
   "cell_type": "code",
   "execution_count": null,
   "id": "4",
   "metadata": {},
   "outputs": [
    {
     "data": {
      "text/plain": [
       "Atoms(symbols='OH2', pbc=False, cell=[6.0, 7.526478, 6.596309])"
      ]
     },
     "metadata": {},
     "output_type": "display_data"
    }
   ],
   "source": [
    "# %% Test ASE molecule MIME type display\n",
    "\n",
    "ase_molecule = molecule(\"H2O\")\n",
    "ase_molecule.center(vacuum=3.0)\n",
    "ase_molecule"
   ]
  },
  {
   "cell_type": "code",
   "execution_count": null,
   "id": "5",
   "metadata": {},
   "outputs": [
    {
     "data": {
      "text/plain": [
       "<phonopy.structure.atoms.PhonopyAtoms object at 0x14a5facf0>"
      ]
     },
     "metadata": {},
     "output_type": "display_data"
    }
   ],
   "source": [
    "# %% Test phonopy atoms MIME type display\n",
    "\n",
    "lattice = [[4, 0, 0], [0, 4, 0], [0, 0, 4]]\n",
    "positions = [[0.0, 0.0, 0.0], [0.5, 0.5, 0.5]]\n",
    "symbols = [\"Na\", \"Cl\"]\n",
    "\n",
    "phonopy_atoms = PhonopyAtoms(symbols=symbols, positions=positions, cell=lattice)\n",
    "phonopy_atoms"
   ]
  },
  {
   "cell_type": "code",
   "execution_count": null,
   "id": "6",
   "metadata": {},
   "outputs": [
    {
     "data": {
      "application/vnd.jupyter.widget-view+json": {
       "model_id": "3348d6fc00ec427abaeb3dc43c82c57d",
       "version_major": 2,
       "version_minor": 1
      },
      "text/plain": [
       "TrajectoryWidget(data_url='tmp/torch-sim-gold-cluster-55-atoms.h5', show_force_vectors=False)"
      ]
     },
     "execution_count": null,
     "metadata": {},
     "output_type": "execute_result"
    }
   ],
   "source": [
    "# %% Render local torch-sim HDF5 trajectory file\n",
    "\n",
    "matterviz_traj_dir_url: Final = (\n",
    "    \"https://github.com/janosh/matterviz/raw/33aa595dc/src/site/trajectories\"\n",
    ")\n",
    "file_name = \"torch-sim-gold-cluster-55-atoms.h5\"\n",
    "\n",
    "if not os.path.isfile(f\"tmp/{file_name}\"):\n",
    "    import urllib.request\n",
    "\n",
    "    os.makedirs(\"tmp\", exist_ok=True)\n",
    "\n",
    "    urllib.request.urlretrieve(  # noqa: S310\n",
    "        f\"{matterviz_traj_dir_url}/{file_name}\", f\"tmp/{file_name}\"\n",
    "    )\n",
    "\n",
    "torch_sim_widget = pmv.TrajectoryWidget(\n",
    "    data_url=f\"tmp/{file_name}\",\n",
    "    display_mode=\"structure+scatter\",\n",
    "    show_force_vectors=False,\n",
    "    auto_rotate=0.5,\n",
    ")\n",
    "torch_sim_widget"
   ]
  },
  {
   "cell_type": "code",
   "execution_count": null,
   "id": "7",
   "metadata": {},
   "outputs": [
    {
     "data": {
      "application/vnd.jupyter.widget-view+json": {
       "model_id": "e79497d7ae7e43a4925063a4237c8003",
       "version_major": 2,
       "version_minor": 1
      },
      "text/plain": [
       "TrajectoryWidget(data_url='https://raw.githack.com/janosh/matterviz/33aa595dc/src/site/trajectories/Cr0.25Fe0.…"
      ]
     },
     "metadata": {},
     "output_type": "display_data"
    }
   ],
   "source": [
    "# %% Render remote ASE trajectory file\n",
    "\n",
    "githack_traj_dir_url: Final = (\n",
    "    \"https://raw.githack.com/janosh/matterviz/33aa595dc/src/site/trajectories\"\n",
    ")\n",
    "file_name = \"Cr0.25Fe0.25Co0.25Ni0.25-mace-omat-qha.xyz.gz\"\n",
    "ase_traj_widget = pmv.TrajectoryWidget(\n",
    "    data_url=f\"{githack_traj_dir_url}/{file_name}\",\n",
    "    display_mode=\"structure+scatter\",\n",
    "    show_force_vectors=True,\n",
    "    force_vector_scale=0.5,\n",
    "    force_vector_color=\"#ff4444\",\n",
    "    show_bonds=True,\n",
    "    bonding_strategy=\"nearest_neighbor\",\n",
    "    style=\"height: 600px;\",\n",
    ")\n",
    "display(ase_traj_widget)"
   ]
  },
  {
   "cell_type": "code",
   "execution_count": null,
   "id": "8",
   "metadata": {},
   "outputs": [
    {
     "data": {
      "application/vnd.jupyter.widget-view+json": {
       "model_id": "33687d3c791a4c07a4da3282f2ececc5",
       "version_major": 2,
       "version_minor": 1
      },
      "text/plain": [
       "TrajectoryWidget(data_url='https://raw.githack.com/janosh/matterviz/33aa595dc/src/site/trajectories/torch-sim-…"
      ]
     },
     "execution_count": null,
     "metadata": {},
     "output_type": "execute_result"
    }
   ],
   "source": [
    "# %% Render remote torch-sim HDF5 trajectory file\n",
    "\n",
    "torch_sim_widget = pmv.TrajectoryWidget(\n",
    "    data_url=f\"{githack_traj_dir_url}/torch-sim-gold-cluster-55-atoms.h5\",\n",
    "    display_mode=\"structure+scatter\",\n",
    "    show_force_vectors=False,\n",
    "    auto_rotate=0.5,\n",
    "    style=\"height: 600px;\",\n",
    ")\n",
    "\n",
    "torch_sim_widget"
   ]
  },
  {
   "cell_type": "code",
   "execution_count": null,
   "id": "9",
   "metadata": {},
   "outputs": [
    {
     "data": {
      "application/vnd.jupyter.widget-view+json": {
       "model_id": "b408e382c31348f7b2ec56e26cb74cec",
       "version_major": 2,
       "version_minor": 0
      },
      "text/plain": [
       "GridBox(children=(CompositionWidget(composition={'Fe': 2.0, 'O': 3.0}, style='width: 100px; height: 100px;'), …"
      ]
     },
     "execution_count": null,
     "metadata": {},
     "output_type": "execute_result"
    }
   ],
   "source": [
    "# %% Test Composition Widget\n",
    "\n",
    "comps = (\n",
    "    \"Fe2 O3\",\n",
    "    Composition(\"Li P O4\"),\n",
    "    dict(Co=20, Cr=20, Fe=20, Mn=20, Ni=20),\n",
    "    dict(Ti=20, Zr=20, Nb=20, Mo=20, V=20),\n",
    ")\n",
    "modes = (\"pie\", \"bar\", \"bubble\")\n",
    "size = 100\n",
    "children = [\n",
    "    pmv.CompositionWidget(\n",
    "        composition=comp,\n",
    "        mode=mode,\n",
    "        style=f\"width: {(1 + (mode == 'bar')) * size}px; height: {size}px;\",\n",
    "    )\n",
    "    for comp, mode in itertools.product(comps, modes)\n",
    "]\n",
    "layout = Layout(\n",
    "    grid_template_columns=f\"repeat({len(modes)}, auto)\",\n",
    "    grid_gap=\"2em 4em\",\n",
    "    padding=\"2em\",\n",
    ")\n",
    "GridBox(children=children, layout=layout)"
   ]
  }
 ],
 "metadata": {
  "kernelspec": {
   "display_name": "py313",
   "language": "python",
   "name": "python3"
  },
  "language_info": {
   "codemirror_mode": {
    "name": "ipython",
    "version": 3
   },
   "file_extension": ".py",
   "mimetype": "text/x-python",
   "name": "python",
   "nbconvert_exporter": "python",
   "pygments_lexer": "ipython3",
   "version": "3.13.0"
  }
 },
 "nbformat": 4,
 "nbformat_minor": 2
}
